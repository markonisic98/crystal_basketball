{
 "cells": [
  {
   "cell_type": "code",
   "execution_count": null,
   "metadata": {},
   "outputs": [],
   "source": [
    "from dataCollection.builder import multi_season_final_dataset\n",
    "\n",
    "# Create dataset with all regular season games from the 2015/2016 season through\n",
    "# to the end of the 2019/2020 season.\n",
    "# This will take roughly 45 mins per season to import - by far the most computationally intensive function\n",
    "# in the package (due to the scraping from various websites)\n",
    "dataset_V1 = multi_season_final_dataset(2016, 2020, [5,10], 1, 82)"
   ]
  },
  {
   "cell_type": "code",
   "execution_count": null,
   "metadata": {},
   "outputs": [],
   "source": [
    "# Load the dataset into a csv file in this folder for easier access now and in the future\n",
    "dataset_V1.to_csv(\"dataset_V1.csv\")"
   ]
  },
  {
   "cell_type": "code",
   "execution_count": null,
   "metadata": {},
   "outputs": [],
   "source": [
    "import pandas as pd\n",
    "dataset_V1 = pd.read_csv(\"dataset_V1.csv\")"
   ]
  },
  {
   "cell_type": "code",
   "execution_count": null,
   "metadata": {},
   "outputs": [],
   "source": [
    "# checking prediction benchmarks to compare to \n",
    "\n",
    "# fivethirtyeight predictions\n",
    "from backtesting import benchmarks\n",
    "from dataCollection import scrapers\n",
    "\n",
    "# enter the filepath to your Google Chrome app, and your chromedriver path, respectively\n",
    "chrome_app_filepath = \"/Applications/Google Chrome.app/Contents/MacOS/Google Chrome\"\n",
    "binary_filepath = \"/Users/markonisic/opt/WebDriver/bin/chromedriver\"\n",
    "\n",
    "# Fivethirtyeight predictions include playoffs, whereas scraped market predictions don't\n",
    "#----2017/2018 - 2020/2021 SEASON-----\n",
    "season_end_years = [2018, 2019, 2020, 2021] # all the available fivethirtyeight season predictions\n",
    "for year in season_end_years:\n",
    "    print(f\"-----{year-1}/{year} SEASON------\")\n",
    "    scraper_results = scrapers.fivethirtyeight_game_scraper(binary_filepath, chrome_app_filepath, year)\n",
    "    benchmarks.fivethirtyeight_winner_and_spread_accuracy(scraper_results)"
   ]
  },
  {
   "cell_type": "code",
   "execution_count": null,
   "metadata": {},
   "outputs": [],
   "source": [
    "# market predictions \n",
    "from backtesting import benchmarks\n",
    "from dataCollection import scrapers\n",
    "#----OVERALL DATASET PREDICTIONS-----\n",
    "print(\"----2015/2016 through 2019/2020 SEASON----\")\n",
    "benchmarks.market_winner_accuracy(dataset_V1)\n",
    "benchmarks.market_over_under_accuracy(dataset_V1)\n",
    "benchmarks.market_spread_accuracy(dataset_V1)\n",
    "\n",
    "#-----YEARLY PREDICTIONS--------\n",
    "season_end_years = [2016, 2017, 2018, 2019, 2020]\n",
    "for year in season_end_years: # 5 seasons in this dataset\n",
    "    print(f\"-----{year-1}/{year} SEASON------\") # COVID Season different schedule\n",
    "    temp_set = dataset_V1[(dataset_V1[\"DATE\"] < f\"{year}-10-01\") & \n",
    "                          (dataset_V1[\"DATE\"] > f\"{year-1}-10-01\")]\n",
    "    benchmarks.market_winner_accuracy(temp_set)\n",
    "    benchmarks.market_over_under_accuracy(temp_set)\n",
    "    benchmarks.market_spread_accuracy(temp_set)"
   ]
  },
  {
   "cell_type": "code",
   "execution_count": null,
   "metadata": {},
   "outputs": [],
   "source": [
    "# Load the dataset from the folder in a future session\n",
    "from dataCollection.builder import create_final_dataset\n",
    "from datetime import datetime\n",
    "from calendar import month_abbr\n",
    "# Using only games after the 10th of the season, to let rolling averages become useful\n",
    "dataset_V1 = dataset_V1[dataset_V1['GAME'] >= 10]\n",
    "# Predicting past games from this season\n",
    "this_season = create_final_dataset(2021, [5,10], first_game_to_collect=10, add_upcoming=True)\n",
    "todays_date = datetime.today().strftime('%Y-%m-%d')\n",
    "this_season_past_games = this_season[this_season['DATE'] != todays_date]\n",
    "# alternatively, to get past games from this season (not yet to occur), we could just\n",
    "# use the same function and parameters as \"this_season\" above, but set \"add_upcoming\"\n",
    "# parameter to False"
   ]
  },
  {
   "cell_type": "code",
   "execution_count": null,
   "metadata": {},
   "outputs": [],
   "source": [
    "from backtesting.predictors.RF import (rf_classify_win_loss, feature_importance_sorted,\n",
    "                                      rf_classify_win_loss_KFold, rf_predict_home_team_points,\n",
    "                                      rf_predict_away_team_points, rf_predict_total_points,\n",
    "                                      rf_predict_home_spread)"
   ]
  },
  {
   "cell_type": "code",
   "execution_count": null,
   "metadata": {},
   "outputs": [],
   "source": [
    "# Set a random state for reproducible results through various models\n",
    "# so they can be combined into one dataframe later, predicting the same games\n",
    "random_state = 1402"
   ]
  },
  {
   "cell_type": "code",
   "execution_count": null,
   "metadata": {},
   "outputs": [],
   "source": [
    "# Predict game outcome using random forest classifier\n",
    "# manual grid search\n",
    "rfc_results = rf_classify_win_loss(dataset_V1, random_state=random_state, min_samples_leaf=0.0075)\n",
    "rf_game_predictions = rfc_results[0]\n",
    "rf_game_prediction_probabilities = rfc_results[1]\n",
    "rfc_model = rfc_results[2]\n",
    "rfc_test_set = rfc_results[3]\n",
    "\n",
    "#0.0075 min leaf samples seems to be optimal"
   ]
  },
  {
   "cell_type": "code",
   "execution_count": null,
   "metadata": {},
   "outputs": [],
   "source": [
    "# Test the accuracy of this model using repeated KFold testing with most of its\n",
    "# parameters held to their default values\n",
    "KFold_testing = rf_classify_win_loss_KFold(rfc_model, dataset_V1, random_state=random_state)\n",
    "model_accuracy, model_std = KFold_testing[0], KFold_testing[1]\n",
    "model_accuracy, model_std"
   ]
  },
  {
   "cell_type": "code",
   "execution_count": null,
   "metadata": {},
   "outputs": [],
   "source": [
    "from backtesting.predictors.SVM import svm_classify_win_loss, svm_classify_win_loss_KFold"
   ]
  },
  {
   "cell_type": "code",
   "execution_count": null,
   "metadata": {},
   "outputs": [],
   "source": [
    "# grid search for optimal C and optimal gamma\n",
    "svm_results = svm_classify_win_loss(dataset_V1, C=10, random_state=random_state)\n",
    "svm_game_predictions = svm_results[0]\n",
    "svm_model = svm_results[1]\n",
    "svm_test_set = svm_results[2]"
   ]
  },
  {
   "cell_type": "code",
   "execution_count": null,
   "metadata": {},
   "outputs": [],
   "source": [
    "# Test the accuracy of this model using repeated KFold testing with most of its\n",
    "# parameters held to their default values\n",
    "KFold_testing = svm_classify_win_loss_KFold(svm_model, dataset_V1, random_state=random_state)\n",
    "model_accuracy, model_std = KFold_testing[0], KFold_testing[1]\n",
    "model_accuracy, model_std"
   ]
  },
  {
   "cell_type": "code",
   "execution_count": null,
   "metadata": {},
   "outputs": [],
   "source": [
    "# Pulling the game lineup for a specific team on a specific night\n",
    "from dataCollection.scrapers import get_game_lineup\n",
    "\n",
    "get_game_lineup('BRK', '2021-02-02')"
   ]
  },
  {
   "cell_type": "code",
   "execution_count": null,
   "metadata": {},
   "outputs": [],
   "source": [
    "# Making predictions/bets on the games played this season\n",
    "# to keep track of bets/profit, if user has been making bets,\n",
    "# or to test how well the user would have done so far betting this season\n",
    "from backtesting.predictors.RF import rf_predict_total_points, rf_predict_home_spread\n",
    "from backtesting.betting.RF import (create_betting_df, rf_gameline_advanced_betting, rf_gameline_simple_betting, rf_home_spread_advanced_betting,\n",
    "                        rf_home_spread_simple_betting, rf_over_under_advanced_betting, rf_over_under_simple_betting)\n",
    "from backtesting.betting.SVM import svm_gameline_simple_betting\n",
    "\n",
    "X_features_this_season=this_season_past_games.iloc[:, this_season_past_games.columns.get_loc(\"PREVIOUS_MATCHUP_RECORD\"):this_season_past_games.shape[1]]\n",
    "y_this_season=this_season_past_games.iloc[:,this_season_past_games.columns.get_loc(\"HOME_TEAM_WIN/LOSS\")]\n",
    "# utilizing the predictive models\n",
    "rf_gameline_preds_model = rf_classify_win_loss(dataset_V1, random_state=random_state, min_samples_leaf=0.0075)[2]\n",
    "rf_gameline_preds = rf_gameline_preds_model.predict(X_features_this_season)\n",
    "rf_gameline_prob_preds = rf_gameline_preds_model.predict_proba(X_features_this_season) #remember this is a 2d array/list\n",
    "rf_home_pts_preds_model = rf_predict_home_team_points(dataset_V1, random_state=random_state)[1]\n",
    "rf_home_pts_preds = rf_home_pts_preds_model.predict(X_features_this_season)\n",
    "rf_away_pts_preds_model = rf_predict_away_team_points(dataset_V1, random_state=random_state)[1]\n",
    "rf_away_pts_preds = rf_away_pts_preds_model.predict(X_features_this_season)\n",
    "rf_spread_preds_model = rf_predict_home_spread(dataset_V1, random_state=random_state)[1]\n",
    "rf_spread_preds = rf_spread_preds_model.predict(X_features_this_season)\n",
    "rf_total_pts_preds_model = rf_predict_total_points(dataset_V1, random_state=random_state)[1]\n",
    "rf_total_pts_preds = rf_total_pts_preds_model.predict(X_features_this_season)\n",
    "svm_gameline_preds_model = svm_classify_win_loss(dataset_V1, C=10, random_state=random_state)[1]\n",
    "svm_gameline_preds = svm_gameline_preds_model.predict(X_features_this_season)\n",
    "\n",
    "# inputting predictions into betting strategy\n",
    "rf_simple_gameline = rf_gameline_simple_betting(rf_gameline_preds, this_season_past_games, bet_per_game_percentage=0.1)\n",
    "rf_advanced_gameline = rf_gameline_advanced_betting(rf_gameline_preds, rf_gameline_prob_preds, this_season_past_games, bet_per_game_percentage=0.1)\n",
    "rf_simple_spread = rf_home_spread_simple_betting(rf_spread_preds, this_season_past_games, bet_per_game_percentage=0.1)\n",
    "rf_advanced_spread = rf_home_spread_advanced_betting(rf_spread_preds, rf_home_pts_preds, rf_away_pts_preds, this_season_past_games, bet_per_game_percentage=0.1, percentage_diff_to_exploit=0.2)\n",
    "rf_simple_over_under = rf_over_under_simple_betting(rf_total_pts_preds, this_season_past_games, bet_per_game_percentage=0.1)\n",
    "rf_advanced_over_under = rf_over_under_advanced_betting(rf_total_pts_preds, rf_home_pts_preds, rf_away_pts_preds, this_season_past_games, bet_per_game_percentage=0.1, percentage_diff_to_exploit=0.05)\n",
    "svm_simple_gameline = svm_gameline_simple_betting(svm_gameline_preds, this_season_past_games, bet_per_game_percentage=0.1)\n"
   ]
  },
  {
   "cell_type": "code",
   "execution_count": null,
   "metadata": {},
   "outputs": [],
   "source": [
    "#collecting and analyzing the profit from each strategy\n",
    "print(\"random forest simple gameline betting profit: \", rf_simple_gameline[1])\n",
    "print(\"random forest advanced gameline betting profit: \", rf_advanced_gameline[1])\n",
    "print(\"random forest simple spread betting profit: \", rf_simple_spread[1])\n",
    "print(\"random forest advanced spread betting profit: \", rf_advanced_spread[1])\n",
    "print(\"random forest simple over/under betting profit: \", rf_simple_over_under[1])\n",
    "print(\"random forest advanced over/under betting profit: \", rf_advanced_over_under[1])\n",
    "print(\"svm simple gameline betting profit: \", svm_simple_gameline[1])\n",
    "\n",
    "print(len(rf_simple_over_under[0]))\n",
    "print(this_season_past_games.shape[0])\n",
    "#creating a dataframe with all of the predictions and the game information \n",
    "betting_dict = {\"rfg_preds\":rf_gameline_preds, \"rfgh_prob_preds\":rf_gameline_prob_preds[:,1], \"rfga_prob_preds\":rf_gameline_prob_preds[:,0], \n",
    "                \"rfh_pts_preds\":rf_home_pts_preds,  \"rfa_pts_preds\":rf_away_pts_preds,\"rfs_preds\":rf_spread_preds, \"rft_preds\":rf_total_pts_preds, \n",
    "                \"svmg_preds\":svm_gameline_preds, \"rfsg\":rf_simple_gameline[0], \"rfag\":rf_advanced_gameline[0], \"rfss\":rf_simple_spread[0],\n",
    "                \"rfas\":rf_advanced_spread[0], \"rfsou\":rf_simple_over_under[0], \"rfaou\":rf_advanced_over_under[0], \"ssg\":svm_simple_gameline[0]}\n",
    "this_season_past_games2 = this_season_past_games.reset_index()\n",
    "betting_df = create_betting_df(betting_dict, this_season_past_games2)\n",
    "betting_df.to_csv(\"this_season_bets.csv\")"
   ]
  },
  {
   "cell_type": "code",
   "execution_count": null,
   "metadata": {},
   "outputs": [],
   "source": [
    "# Putting these predictions into a betting strategy on a test set decided by the random_state value in the\n",
    "# beginning of this notebook\n",
    "from backtesting.predictors.RF import rf_predict_total_points, rf_predict_home_spread\n",
    "from backtesting.betting.RF import (create_betting_df, rf_gameline_advanced_betting, rf_gameline_simple_betting, rf_home_spread_advanced_betting,\n",
    "                        rf_home_spread_simple_betting, rf_over_under_advanced_betting, rf_over_under_simple_betting)\n",
    "from backtesting.betting.SVM import svm_gameline_simple_betting\n",
    "\n",
    "# utilizing the predictive models\n",
    "rf_gameline_preds = rf_game_predictions\n",
    "rf_gameline_prob_preds = rf_game_prediction_probabilities #remember this is a 2d array/list\n",
    "rf_home_pts_preds = rf_predict_home_team_points(dataset_V1, random_state=random_state)[0]\n",
    "rf_away_pts_preds = rf_predict_away_team_points(dataset_V1, random_state=random_state)[0]\n",
    "rf_spread_preds = rf_predict_home_spread(dataset_V1, random_state=random_state)[0]\n",
    "rf_total_pts_preds = rf_predict_total_points(dataset_V1, random_state=random_state)[0]\n",
    "svm_gameline_preds = svm_game_predictions\n",
    "\n",
    "# inputting predictions into betting strategy\n",
    "rf_simple_gameline = rf_gameline_simple_betting(rf_gameline_preds, rfc_test_set, bet_per_game_percentage=0.1)\n",
    "rf_advanced_gameline = rf_gameline_advanced_betting(rf_gameline_preds, rf_gameline_prob_preds, rfc_test_set, bet_per_game_percentage=0.1)\n",
    "rf_simple_spread = rf_home_spread_simple_betting(rf_spread_preds, rfc_test_set, bet_per_game_percentage=0.1)\n",
    "rf_advanced_spread = rf_home_spread_advanced_betting(rf_spread_preds, rf_home_pts_preds, rf_away_pts_preds, rfc_test_set, bet_per_game_percentage=0.1, percentage_diff_to_exploit=0.2)\n",
    "rf_simple_over_under = rf_over_under_simple_betting(rf_total_pts_preds, rfc_test_set, bet_per_game_percentage=0.1)\n",
    "rf_advanced_over_under = rf_over_under_advanced_betting(rf_total_pts_preds, rf_home_pts_preds, rf_away_pts_preds, rfc_test_set, bet_per_game_percentage=0.1, percentage_diff_to_exploit=0.05)\n",
    "svm_simple_gameline = svm_gameline_simple_betting(svm_gameline_preds, rfc_test_set, bet_per_game_percentage=0.1)\n",
    "\n"
   ]
  },
  {
   "cell_type": "code",
   "execution_count": null,
   "metadata": {},
   "outputs": [],
   "source": [
    "#collecting and analyzing the profit from each strategy\n",
    "print(\"random forest simple gameline betting profit: \", rf_simple_gameline[1])\n",
    "print(\"random forest advanced gameline betting profit: \", rf_advanced_gameline[1])\n",
    "print(\"random forest simple spread betting profit: \", rf_simple_spread[1])\n",
    "print(\"random forest advanced spread betting profit: \", rf_advanced_spread[1])\n",
    "print(\"random forest simple over/under betting profit: \", rf_simple_over_under[1])\n",
    "print(\"random forest advanced over/under betting profit: \", rf_advanced_over_under[1])\n",
    "print(\"svm simple gameline betting profit: \", svm_simple_gameline[1])\n",
    "\n",
    "print(len(rf_simple_over_under[0]))\n",
    "print(rfc_test_set.shape[0])\n",
    "#creating a dataframe with all of the predictions and the game information \n",
    "betting_dict = {\"rfg_preds\":rf_gameline_preds, \"rfgh_prob_preds\":rf_gameline_prob_preds[:,1], \"rfga_prob_preds\":rf_gameline_prob_preds[:,0], \n",
    "                \"rfh_pts_preds\":rf_home_pts_preds,  \"rfa_pts_preds\":rf_away_pts_preds,\"rfs_preds\":rf_spread_preds, \"rft_preds\":rf_total_pts_preds, \n",
    "                \"svmg_preds\":svm_gameline_preds, \"rfsg\":rf_simple_gameline[0], \"rfag\":rf_advanced_gameline[0], \"rfss\":rf_simple_spread[0],\n",
    "                \"rfas\":rf_advanced_spread[0], \"rfsou\":rf_simple_over_under[0], \"rfaou\":rf_advanced_over_under[0], \"ssg\":svm_simple_gameline[0]}\n",
    "betting_df = create_betting_df(betting_dict, rfc_test_set)\n",
    "betting_df"
   ]
  },
  {
   "cell_type": "code",
   "execution_count": null,
   "metadata": {},
   "outputs": [],
   "source": [
    "from live.predictors.RF import rf_live_predictions_master\n",
    "from live.betting.RF import live_betting_simple_master, live_betting_advanced_master\n",
    "live_results = rf_live_predictions_master(this_season, rfc_model, rf_predict_home_team_points(dataset_V1, random_state=random_state)[1],\n",
    "                                          rf_predict_away_team_points(dataset_V1, random_state=random_state)[1], \n",
    "                                          rf_predict_total_points(dataset_V1, random_state=random_state)[1], \n",
    "                                          rf_predict_home_spread(dataset_V1, random_state=random_state)[1])"
   ]
  },
  {
   "cell_type": "code",
   "execution_count": null,
   "metadata": {},
   "outputs": [],
   "source": [
    "live_results"
   ]
  },
  {
   "cell_type": "code",
   "execution_count": null,
   "metadata": {},
   "outputs": [],
   "source": [
    "live_betting_simple_master(live_results)"
   ]
  },
  {
   "cell_type": "code",
   "execution_count": null,
   "metadata": {},
   "outputs": [],
   "source": [
    "live_betting_advanced_master(live_results)"
   ]
  }
 ],
 "metadata": {
  "kernelspec": {
   "display_name": "Python 3",
   "language": "python",
   "name": "python3"
  },
  "language_info": {
   "codemirror_mode": {
    "name": "ipython",
    "version": 3
   },
   "file_extension": ".py",
   "mimetype": "text/x-python",
   "name": "python",
   "nbconvert_exporter": "python",
   "pygments_lexer": "ipython3",
   "version": "3.7.6"
  }
 },
 "nbformat": 4,
 "nbformat_minor": 4
}
